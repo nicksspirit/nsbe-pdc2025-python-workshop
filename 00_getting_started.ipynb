{
 "cells": [
  {
   "cell_type": "markdown",
   "id": "0",
   "metadata": {},
   "source": [
    "# NSBE PDC 2025 Python Workshop - Getting Started\n",
    "\n",
    "Welcome to the NSBE PDC 2025 Python Workshop! This guide will help you set up your environment to follow along with the workshop materials.\n",
    "\n",
    "## Setup Instructions\n",
    "\n",
    "### Option 1: Google Colab\n",
    "\n",
    "If you're using Google Colab, run the following cells in order:\n",
    "\n",
    "1. First, clone the workshop repository:"
   ]
  },
  {
   "cell_type": "code",
   "execution_count": null,
   "id": "1",
   "metadata": {},
   "outputs": [],
   "source": [
    "!git clone https://github.com/nicksspirit/nsbe-pdc2025-python-workshop.git\n",
    "%cd nsbe-pdc2025-python-workshop"
   ]
  },
  {
   "cell_type": "markdown",
   "id": "2",
   "metadata": {},
   "source": [
    "2. Install uv (Python package installer):"
   ]
  },
  {
   "cell_type": "code",
   "execution_count": null,
   "id": "3",
   "metadata": {},
   "outputs": [],
   "source": [
    "!curl -LsSf https://astral.sh/uv/install.sh | sh\n",
    "import os\n",
    "\n",
    "os.environ[\"PATH\"] = f\"{os.environ['PATH']}:{os.environ['HOME']}/.cargo/bin\""
   ]
  },
  {
   "cell_type": "markdown",
   "id": "4",
   "metadata": {},
   "source": [
    "3. Install required packages:"
   ]
  },
  {
   "cell_type": "code",
   "execution_count": null,
   "id": "5",
   "metadata": {},
   "outputs": [],
   "source": [
    "!uv pip install -r pyproject.toml"
   ]
  },
  {
   "cell_type": "markdown",
   "id": "6",
   "metadata": {},
   "source": [
    "4. Install Cloudflared (for tunneling):"
   ]
  },
  {
   "cell_type": "code",
   "execution_count": null,
   "id": "7",
   "metadata": {},
   "outputs": [],
   "source": [
    "!wget -q https://github.com/cloudflare/cloudflared/releases/latest/download/cloudflared-linux-amd64.deb && dpkg -i cloudflared-linux-amd64.deb"
   ]
  },
  {
   "cell_type": "markdown",
   "id": "8",
   "metadata": {},
   "source": [
    "5. Verify Cloudflared installation:"
   ]
  },
  {
   "cell_type": "code",
   "execution_count": null,
   "id": "9",
   "metadata": {},
   "outputs": [],
   "source": [
    "!cloudflared -v"
   ]
  },
  {
   "cell_type": "markdown",
   "id": "10",
   "metadata": {},
   "source": [
    "6. Install localtunnel:"
   ]
  },
  {
   "cell_type": "code",
   "execution_count": null,
   "id": "11",
   "metadata": {
    "colab": {
     "base_uri": "https://localhost:8080/"
    },
    "id": "AAD1ZNXuvyz4",
    "outputId": "ebe7506c-18bd-421f-e8aa-e0d44a6b3b2d"
   },
   "outputs": [],
   "source": [
    "!npm install localtunnel"
   ]
  },
  {
   "cell_type": "markdown",
   "id": "12",
   "metadata": {},
   "source": [
    "### Option 2: Local Setup w/ VS Code\n",
    "\n",
    "If you prefer to work locally on your machine:\n",
    "\n",
    "1. Clone the repository:\n",
    "   ```bash\n",
    "   git clone https://github.com/nicksspirit/nsbe-pdc2025-python-workshop.git\n",
    "   cd nsbe-pdc2025-python-workshop\n",
    "   ```\n",
    "\n",
    "2. Install uv package manager:\n",
    "   ```bash\n",
    "   curl -LsSf https://astral.sh/uv/install.sh | sh\n",
    "   ```\n",
    "\n",
    "3. Install dependencies:\n",
    "   ```bash\n",
    "   uv pip install -r pyproject.toml\n",
    "   ```\n",
    "\n",
    "## Next Steps\n",
    "\n",
    "After completing the setup, you can proceed to the workshop notebooks. If you encounter any issues, please reach out to a workshop facilitator for assistance."
   ]
  }
 ],
 "metadata": {
  "jupytext": {
   "hide_notebook_metadata": true,
   "main_language": "python",
   "notebook_metadata_filter": "-kernelspec,-jupytext.text_representation.jupytext_version"
  },
  "language_info": {
   "name": "python"
  }
 },
 "nbformat": 4,
 "nbformat_minor": 5
}
